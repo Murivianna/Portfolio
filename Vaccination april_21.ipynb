{
 "cells": [
  {
   "cell_type": "code",
   "execution_count": 1,
   "metadata": {},
   "outputs": [],
   "source": [
    "import pandas as pd\n",
    "import numpy as np"
   ]
  },
  {
   "cell_type": "code",
   "execution_count": 2,
   "metadata": {
    "scrolled": true
   },
   "outputs": [],
   "source": [
    "vac = pd.read_csv('https://raw.githubusercontent.com/Murivianna/stats/main/vaccination%20EU.csv')"
   ]
  },
  {
   "cell_type": "markdown",
   "metadata": {},
   "source": [
    "The referent database contain data about the vaccination for Covid-19 in countries members of the EU. Countries in the European Union are requested to report their data about vaccination daily. Due to the vaccine program the data presented in this study is only for example purpose and may have changes after this study is done. Please also consider that one of the variables (Vaccine)chosen for this study is qualitative and it is represent by an acronym, for easy search the representation in the graphs and tables are explained as follow ABREVIATON = Name of the vaccine (Lab): COM = Comirnaty (Pfizer_BioNTech) // MOD = mRNA-1273 (Moderna) // CN = BBIBV-CorV (CNBG) //SIN = Coronavac (Sinovac) // SPU = Sputnik V (Gamaleya Research Institute) // AZ = AZD1222 (AstraZeneca) // UNK = UNKNOWN.\n",
    "\n",
    "The full dictionary of the data can be found here: https://www.ecdc.europa.eu/sites/default/files/documents/Variable_Dictionary_VaccineTracker-03-2021.pdf \n",
    "\n",
    "Database download from: https://www.ecdc.europa.eu/en/publications-data/data-covid-19-vaccination-eu-eea on 30 March 2021. "
   ]
  },
  {
   "cell_type": "code",
   "execution_count": 3,
   "metadata": {},
   "outputs": [
    {
     "name": "stdout",
     "output_type": "stream",
     "text": [
      "<class 'pandas.core.frame.DataFrame'>\n",
      "RangeIndex: 19118 entries, 0 to 19117\n",
      "Data columns (total 12 columns):\n",
      " #   Column               Non-Null Count  Dtype  \n",
      "---  ------               --------------  -----  \n",
      " 0   YearWeekISO          19118 non-null  object \n",
      " 1   FirstDose            19118 non-null  int64  \n",
      " 2   FirstDoseRefused     9187 non-null   float64\n",
      " 3   SecondDose           19118 non-null  int64  \n",
      " 4   UnknownDose          19118 non-null  int64  \n",
      " 5   NumberDosesReceived  3103 non-null   float64\n",
      " 6   Region               19118 non-null  object \n",
      " 7   Population           19118 non-null  int64  \n",
      " 8   ReportingCountry     19118 non-null  object \n",
      " 9   TargetGroup          19118 non-null  object \n",
      " 10  Vaccine              19118 non-null  object \n",
      " 11  Denominator          14445 non-null  float64\n",
      "dtypes: float64(3), int64(4), object(5)\n",
      "memory usage: 1.8+ MB\n"
     ]
    }
   ],
   "source": [
    "vac.info()"
   ]
  },
  {
   "cell_type": "code",
   "execution_count": 4,
   "metadata": {},
   "outputs": [
    {
     "data": {
      "text/plain": [
       "<bound method NDFrame.head of       YearWeekISO  FirstDose  FirstDoseRefused  SecondDose  UnknownDose  \\\n",
       "0        2020-W53          0               0.0           0            0   \n",
       "1        2020-W53       2627               0.0           0            0   \n",
       "2        2020-W53          0               0.0           0            0   \n",
       "3        2020-W53          0               0.0           0            0   \n",
       "4        2020-W53       2354               0.0           0            0   \n",
       "...           ...        ...               ...         ...          ...   \n",
       "19113    2021-W11      59233               NaN       12671            0   \n",
       "19114    2021-W11       1269               NaN        9469            0   \n",
       "19115    2021-W12      34812               NaN        8527            0   \n",
       "19116    2021-W12       7538               NaN           1            0   \n",
       "19117    2021-W12       4762               NaN        2467            0   \n",
       "\n",
       "       NumberDosesReceived Region  Population ReportingCountry TargetGroup  \\\n",
       "0                      0.0     AT     8901064               AT    1_Age60+   \n",
       "1                  61425.0     AT     8901064               AT    1_Age60+   \n",
       "2                      0.0     AT     8901064               AT    1_Age60+   \n",
       "3                      0.0     AT     8901064               AT    1_Age<60   \n",
       "4                  61425.0     AT     8901064               AT    1_Age<60   \n",
       "...                    ...    ...         ...              ...         ...   \n",
       "19113                  0.0     SK     5457873               SK         ALL   \n",
       "19114                  0.0     SK     5457873               SK         ALL   \n",
       "19115                  0.0     SK     5457873               SK         ALL   \n",
       "19116                  0.0     SK     5457873               SK         ALL   \n",
       "19117                  0.0     SK     5457873               SK         ALL   \n",
       "\n",
       "      Vaccine  Denominator  \n",
       "0          AZ    2259262.0  \n",
       "1         COM    2259262.0  \n",
       "2         MOD    2259262.0  \n",
       "3         MOD    5099181.0  \n",
       "4         COM    5099181.0  \n",
       "...       ...          ...  \n",
       "19113     COM    4437897.0  \n",
       "19114     MOD    4437897.0  \n",
       "19115     COM    4437897.0  \n",
       "19116      AZ    4437897.0  \n",
       "19117     MOD    4437897.0  \n",
       "\n",
       "[19118 rows x 12 columns]>"
      ]
     },
     "execution_count": 4,
     "metadata": {},
     "output_type": "execute_result"
    }
   ],
   "source": [
    "vac.head"
   ]
  },
  {
   "cell_type": "markdown",
   "metadata": {},
   "source": [
    "The 2 variables chosen for this study  are \"Vaccine\" and \"Population\""
   ]
  },
  {
   "cell_type": "code",
   "execution_count": 5,
   "metadata": {
    "scrolled": true
   },
   "outputs": [
    {
     "name": "stdout",
     "output_type": "stream",
     "text": [
      "27356825.628360707\n"
     ]
    }
   ],
   "source": [
    "average = vac[\"Population\"].mean()\n",
    "print(average) "
   ]
  },
  {
   "cell_type": "code",
   "execution_count": 6,
   "metadata": {},
   "outputs": [
    {
     "name": "stdout",
     "output_type": "stream",
     "text": [
      "37958138.0\n"
     ]
    }
   ],
   "source": [
    "middlePoint = vac[\"Population\"].median()\n",
    "print(middlePoint)"
   ]
  },
  {
   "cell_type": "code",
   "execution_count": 7,
   "metadata": {},
   "outputs": [
    {
     "name": "stdout",
     "output_type": "stream",
     "text": [
      "0    37958138\n",
      "dtype: int64\n"
     ]
    }
   ],
   "source": [
    "trend = vac[\"Population\"].mode()\n",
    "print(trend)"
   ]
  },
  {
   "cell_type": "markdown",
   "metadata": {},
   "source": [
    "calculating its standard deviation"
   ]
  },
  {
   "cell_type": "code",
   "execution_count": 8,
   "metadata": {},
   "outputs": [
    {
     "data": {
      "text/plain": [
       "22017589.57657313"
      ]
     },
     "execution_count": 8,
     "metadata": {},
     "output_type": "execute_result"
    }
   ],
   "source": [
    "vac[\"Population\"].std()"
   ]
  },
  {
   "cell_type": "markdown",
   "metadata": {},
   "source": [
    "Calculating the 5 number summary"
   ]
  },
  {
   "cell_type": "code",
   "execution_count": 9,
   "metadata": {},
   "outputs": [
    {
     "name": "stdout",
     "output_type": "stream",
     "text": [
      "37958138.0\n",
      "38747\n",
      "83166711\n"
     ]
    }
   ],
   "source": [
    "minimum = vac[\"Population\"].min()\n",
    "maximum = vac[\"Population\"].max()\n",
    "quartiles = np.percentile(vac[\"Population\"], [25,75])\n",
    "median = vac[\"Population\"].median()\n",
    "print(median)\n",
    "print(minimum)\n",
    "print(maximum)"
   ]
  },
  {
   "cell_type": "code",
   "execution_count": 10,
   "metadata": {},
   "outputs": [
    {
     "data": {
      "text/plain": [
       "count    1.911800e+04\n",
       "mean     2.735683e+07\n",
       "std      2.201759e+07\n",
       "min      3.874700e+04\n",
       "25%      5.525292e+06\n",
       "50%      3.795814e+07\n",
       "75%      3.795814e+07\n",
       "max      8.316671e+07\n",
       "Name: Population, dtype: float64"
      ]
     },
     "execution_count": 10,
     "metadata": {},
     "output_type": "execute_result"
    }
   ],
   "source": [
    "vac[\"Population\"].describe()"
   ]
  },
  {
   "cell_type": "code",
   "execution_count": 11,
   "metadata": {},
   "outputs": [
    {
     "data": {
      "text/plain": [
       "count    1.911800e+04\n",
       "mean     2.735683e+07\n",
       "std      2.201759e+07\n",
       "min      3.874700e+04\n",
       "25%      5.525292e+06\n",
       "50%      3.795814e+07\n",
       "75%      3.795814e+07\n",
       "max      8.316671e+07\n",
       "Name: Population, dtype: float64"
      ]
     },
     "execution_count": 11,
     "metadata": {},
     "output_type": "execute_result"
    }
   ],
   "source": [
    "vac[\"Population\"].describe()\n"
   ]
  },
  {
   "cell_type": "markdown",
   "metadata": {},
   "source": [
    "Using appropriate graphics, plot the variables to get a better idea of its dispersion. "
   ]
  },
  {
   "cell_type": "code",
   "execution_count": 12,
   "metadata": {
    "scrolled": true
   },
   "outputs": [
    {
     "data": {
      "text/plain": [
       "<AxesSubplot:>"
      ]
     },
     "execution_count": 12,
     "metadata": {},
     "output_type": "execute_result"
    },
    {
     "data": {
      "image/png": "[encoded data removed]",
      "text/plain": [
       "<Figure size 432x288 with 1 Axes>"
      ]
     },
     "metadata": {
      "needs_background": "light"
     },
     "output_type": "display_data"
    }
   ],
   "source": [
    "vac[\"Vaccine\"].hist()"
   ]
  },
  {
   "cell_type": "code",
   "execution_count": 13,
   "metadata": {},
   "outputs": [
    {
     "data": {
      "text/plain": [
       "COM    6084\n",
       "MOD    5323\n",
       "AZ     4682\n",
       "UNK    2879\n",
       "SPU      90\n",
       "CN       60\n",
       "Name: Vaccine, dtype: int64"
      ]
     },
     "execution_count": 13,
     "metadata": {},
     "output_type": "execute_result"
    }
   ],
   "source": [
    "vac[\"Vaccine\"].value_counts()"
   ]
  },
  {
   "cell_type": "code",
   "execution_count": 14,
   "metadata": {},
   "outputs": [
    {
     "data": {
      "text/plain": [
       "<AxesSubplot:>"
      ]
     },
     "execution_count": 14,
     "metadata": {},
     "output_type": "execute_result"
    },
    {
     "data": {
      "image/png": "[encoded data removed]",
      "text/plain": [
       "<Figure size 432x288 with 1 Axes>"
      ]
     },
     "metadata": {
      "needs_background": "light"
     },
     "output_type": "display_data"
    }
   ],
   "source": [
    "vac[\"Population\"].hist()"
   ]
  },
  {
   "cell_type": "markdown",
   "metadata": {},
   "source": [
    "Is it a normal distribuition? Provide a short analysis looking at the results you got in the previous items."
   ]
  },
  {
   "cell_type": "code",
   "execution_count": 15,
   "metadata": {},
   "outputs": [
    {
     "data": {
      "text/plain": [
       "<AxesSubplot:>"
      ]
     },
     "execution_count": 15,
     "metadata": {},
     "output_type": "execute_result"
    },
    {
     "data": {
      "image/png": "[encoded data removed]",
      "text/plain": [
       "<Figure size 432x288 with 1 Axes>"
      ]
     },
     "metadata": {
      "needs_background": "light"
     },
     "output_type": "display_data"
    }
   ],
   "source": [
    "vac[\"Population\"].plot.box()"
   ]
  },
  {
   "cell_type": "markdown",
   "metadata": {},
   "source": [
    "Considering the large distance between the min and max, between the  1st and 3rd quarterly,  provide in the table in item 6, it shows it is not a normal distribution. Also in the graph in item 7 it is possible to visualize the up and down of the bars and for most important of all information mentioned, checking the table in item number 6, it is possible to compare the results of Mean and Std showing that the variable 'Population' is not normal distribution. \n"
   ]
  },
  {
   "cell_type": "markdown",
   "metadata": {},
   "source": [
    "Analising the previous data available in the items below, especially in items number 6 and 7, it is possible to see that the both variables have outliers or missing values. Considering for example that the Vaccines named SPU and CN have extremely least inputs than COM and MOD, for example. Also, it is possible to verify in the results below that the mean has a decrease when we cut 10% of the data in the both ends. "
   ]
  },
  {
   "cell_type": "code",
   "execution_count": 16,
   "metadata": {},
   "outputs": [],
   "source": [
    "from scipy import stats"
   ]
  },
  {
   "cell_type": "code",
   "execution_count": 17,
   "metadata": {
    "scrolled": true
   },
   "outputs": [
    {
     "data": {
      "text/plain": [
       "25577583.31609571"
      ]
     },
     "execution_count": 17,
     "metadata": {},
     "output_type": "execute_result"
    }
   ],
   "source": [
    "stats.trim_mean(vac[\"Population\"], 0.1)"
   ]
  },
  {
   "cell_type": "code",
   "execution_count": 18,
   "metadata": {},
   "outputs": [
    {
     "name": "stdout",
     "output_type": "stream",
     "text": [
      "27356825.628360707\n"
     ]
    }
   ],
   "source": [
    "average = vac[\"Population\"].mean()\n",
    "print(average) "
   ]
  },
  {
   "cell_type": "markdown",
   "metadata": {},
   "source": [
    "Pick 2 variables and plot their relation using an appropriate graphic. Provide a short analysis of what you observed"
   ]
  },
  {
   "cell_type": "code",
   "execution_count": 19,
   "metadata": {},
   "outputs": [],
   "source": [
    "import matplotlib.pyplot as plt\n",
    "import seaborn as sns"
   ]
  },
  {
   "cell_type": "markdown",
   "metadata": {},
   "source": [
    "According to the graph below it is related that the numbers of doses distributed between EU countries is according to their population, this means for example, Ireland will receive much less doses than Spain, but in the per capita rate both countries will have a similar index. "
   ]
  },
  {
   "cell_type": "code",
   "execution_count": 20,
   "metadata": {},
   "outputs": [
    {
     "data": {
      "text/plain": [
       "<AxesSubplot:xlabel='Population', ylabel='NumberDosesReceived'>"
      ]
     },
     "execution_count": 20,
     "metadata": {},
     "output_type": "execute_result"
    },
    {
     "data": {
      "image/png": "[encoded data removed]",
      "text/plain": [
       "<Figure size 432x288 with 1 Axes>"
      ]
     },
     "metadata": {
      "needs_background": "light"
     },
     "output_type": "display_data"
    }
   ],
   "source": [
    "sns.scatterplot(data=vac, x=\"Population\", y=\"NumberDosesReceived\")"
   ]
  },
  {
   "cell_type": "code",
   "execution_count": null,
   "metadata": {},
   "outputs": [],
   "source": []
  }
 ],
 "metadata": {
  "kernelspec": {
   "display_name": "Python 3 (ipykernel)",
   "language": "python",
   "name": "python3"
  },
  "language_info": {
   "codemirror_mode": {
    "name": "ipython",
    "version": 3
   },
   "file_extension": ".py",
   "mimetype": "text/x-python",
   "name": "python",
   "nbconvert_exporter": "python",
   "pygments_lexer": "ipython3",
   "version": "3.9.7"
  }
 },
 "nbformat": 4,
 "nbformat_minor": 4
}
